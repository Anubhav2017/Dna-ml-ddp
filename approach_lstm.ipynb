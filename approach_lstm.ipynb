{
  "cells": [
    {
      "cell_type": "markdown",
      "metadata": {
        "id": "view-in-github",
        "colab_type": "text"
      },
      "source": [
        "<a href=\"https://colab.research.google.com/github/Anubhav2017/Dna-ml-ddp/blob/master/approach_lstm.ipynb\" target=\"_parent\"><img src=\"https://colab.research.google.com/assets/colab-badge.svg\" alt=\"Open In Colab\"/></a>"
      ]
    },
    {
      "cell_type": "code",
      "execution_count": 7,
      "metadata": {
        "id": "2ctqCQITVyjL"
      },
      "outputs": [],
      "source": [
        "import numpy as np\n",
        "bases={'A':np.array([0,0,0,1]), 'C':np.array([0,0,1,0]), 'G':np.array([0,1,0,0]), 'T':np.array([1,0,0,0]), 'N':np.array([0,0,0,0]), 'Y':np.array([0,0,0,0]), 'R':np.array([0,0,0,0]), 'W':np.array([0,0,0,0]), 'S':np.array([0,0,0,0]), 'K':np.array([0,0,0,0])}\n",
        "\n",
        "def one_hot_encode(seq, unique_elems,maxlen):\n",
        "    seq_encoded=[]\n",
        "    i=0\n",
        "    for el in seq:\n",
        "        # print(el)\n",
        "        if i<maxlen:\n",
        "            seq_encoded.append(unique_elems[el])\n",
        "            i+=1\n",
        "        \n",
        "    return np.array(seq_encoded)\n",
        "\n",
        "def one_hot_encode_2(y,num_classes):\n",
        "    y_encoded=[]\n",
        "    for el in y:\n",
        "        y_encoded.append(np.eye(num_classes)[el])\n",
        "    return np.array(y_encoded)\n",
        "\n"
      ]
    },
    {
      "cell_type": "code",
      "source": [
        "from google.colab import drive\n",
        "drive.mount('/content/drive')"
      ],
      "metadata": {
        "colab": {
          "base_uri": "https://localhost:8080/"
        },
        "id": "MsIePkCSbVox",
        "outputId": "6d21d456-ff6e-4c90-90ec-1b2960ece199"
      },
      "execution_count": 8,
      "outputs": [
        {
          "output_type": "stream",
          "name": "stdout",
          "text": [
            "Drive already mounted at /content/drive; to attempt to forcibly remount, call drive.mount(\"/content/drive\", force_remount=True).\n"
          ]
        }
      ]
    },
    {
      "cell_type": "code",
      "source": [
        "!pip install biopython"
      ],
      "metadata": {
        "colab": {
          "base_uri": "https://localhost:8080/"
        },
        "id": "ijQel1UpV9m3",
        "outputId": "27fe5bde-b4d9-429b-dfe0-a6f98a3ac8f0"
      },
      "execution_count": 9,
      "outputs": [
        {
          "output_type": "stream",
          "name": "stdout",
          "text": [
            "Requirement already satisfied: biopython in /usr/local/lib/python3.7/dist-packages (1.79)\n",
            "Requirement already satisfied: numpy in /usr/local/lib/python3.7/dist-packages (from biopython) (1.19.5)\n"
          ]
        }
      ]
    },
    {
      "cell_type": "code",
      "execution_count": 10,
      "metadata": {
        "colab": {
          "base_uri": "https://localhost:8080/"
        },
        "id": "6yuNL3K3VyjP",
        "outputId": "8c9b44ca-6fdb-4400-848f-7a5c80771ec6"
      },
      "outputs": [
        {
          "output_type": "stream",
          "name": "stdout",
          "text": [
            "dict_keys(['Acinetobacterbaumannii', 'Acinetobactercalcoaceticus', 'Bacteroidesfragilis', 'Candidaalbicans', 'Candidaauris', 'Candidaglabrata', 'Candidaparapsilosis', 'Cosenzaeamyxofaciens', 'Cryptococcusneoformans', 'Enterobactercloacae', 'Enterococcusfaecalis', 'Enterococcusfaecium', 'Escherichiacoli', 'Haemophilusinfluenzae', 'Klebsiellaaerogenes', 'Klebsiellaoxytoca', 'Klebsiellapneumoniae', 'Listeriamonocytogenes', 'Neisseriameningitidis', 'Pichiakudriavzevii', 'Thermoproteusthermophilus', 'Thermoproteustenax', 'Proteusalimentorum', 'Proteuscolumbae', 'Proteuscibarius', 'Proteusterrae', 'Motiliproteussediminis', 'Shimwelliapseudoproteus', 'Obesumbacteriumproteus', 'Proteusvulgaris', 'Proteusmirabilis', 'Proteushauseri', 'Proteuspenneri', 'Pseudomonasaeruginosa', 'Salmonellaenterica', 'Salmonellabongori', 'Serratiamarcescens', 'Staphylococcusaureus'])\n",
            "(118, 1110, 4)\n"
          ]
        }
      ],
      "source": [
        "from Bio import SeqIO\n",
        "unique_elems=dict()\n",
        "x_data=[]\n",
        "y_data=[]\n",
        "minlen=100000\n",
        "for sequence in SeqIO.parse('dataset.fasta', \"fasta\"):\n",
        "    unique_elems[sequence.description.split()[1]+sequence.description.split()[2]]=0\n",
        "    if len(sequence.seq)<minlen:\n",
        "        minlen=len(sequence.seq)\n",
        "\n",
        "# print(minlen)\n",
        "print(unique_elems.keys())\n",
        "i=0\n",
        "for el in unique_elems.keys():\n",
        "    unique_elems[el]=i\n",
        "    i+=1\n",
        "# print(unique_elems)\n",
        "for sequence in SeqIO.parse('dataset.fasta', \"fasta\"):\n",
        "    x_data.append(one_hot_encode(sequence.seq,bases,minlen))\n",
        "    y_data.append(unique_elems[sequence.description.split()[1]+sequence.description.split()[2]])\n",
        "\n",
        "x_data=np.array(x_data)\n",
        "y_data=one_hot_encode_2(y_data,len(unique_elems))\n",
        "\n",
        "\n",
        "print(x_data.shape)\n",
        "    "
      ]
    },
    {
      "cell_type": "code",
      "execution_count": 11,
      "metadata": {
        "id": "9eOJ893pVyjQ"
      },
      "outputs": [],
      "source": [
        "import tensorflow as tf\n",
        "from tensorflow.keras.models import Sequential\n",
        "from tensorflow.keras.layers import Dense, Dropout, Flatten, Conv1D, MaxPooling1D,Reshape, LSTM\n",
        "from tensorflow.keras.callbacks import EarlyStopping\n"
      ]
    },
    {
      "cell_type": "code",
      "execution_count": null,
      "metadata": {
        "id": "-lox5C6OVyjR"
      },
      "outputs": [],
      "source": [
        "model=Sequential()\n",
        "model.add(LSTM(units=256, input_shape=(x_data.shape[1],x_data.shape[2])))\n",
        "model.add(Reshape((-1,8)))\n",
        "model.add(Conv1D(filters=128, kernel_size=12, activation='relu'))\n",
        "model.add(Flatten())\n",
        "model.add(Dense(units=len(unique_elems), activation='softmax'))\n",
        "model.summary()\n",
        "model.compile(optimizer='adam', loss='categorical_crossentropy', metrics=['accuracy'])\n",
        "early_stopping = EarlyStopping(monitor='loss', patience=2, mode='min')\n",
        "history = model.fit(x_data, y_data, epochs=1000, verbose=1, validation_data= None)"
      ]
    }
  ],
  "metadata": {
    "interpreter": {
      "hash": "8eda46fcdaf684ca6c615bf0acdae196e42139c0edab1eb57e328e85edfac349"
    },
    "kernelspec": {
      "display_name": "Python 3.8.12 64-bit ('genomics': conda)",
      "language": "python",
      "name": "python3"
    },
    "language_info": {
      "codemirror_mode": {
        "name": "ipython",
        "version": 3
      },
      "file_extension": ".py",
      "mimetype": "text/x-python",
      "name": "python",
      "nbconvert_exporter": "python",
      "pygments_lexer": "ipython3",
      "version": "3.8.12"
    },
    "orig_nbformat": 4,
    "colab": {
      "name": "approach_lstm.ipynb",
      "provenance": [],
      "include_colab_link": true
    },
    "accelerator": "GPU"
  },
  "nbformat": 4,
  "nbformat_minor": 0
}
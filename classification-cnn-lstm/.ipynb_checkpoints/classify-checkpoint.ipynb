{
 "cells": [
  {
   "cell_type": "code",
   "execution_count": 33,
   "metadata": {},
   "outputs": [
    {
     "name": "stdout",
     "output_type": "stream",
     "text": [
      "GAATTCTCGAA\n"
     ]
    }
   ],
   "source": [
    "from Bio import SeqIO\n",
    "import pandas as pd\n",
    "\n",
    "sequences=[]\n",
    "for sequence in SeqIO.parse('multifasta_WEL.fa', \"fasta\"):\n",
    "    sequences.append(str(sequence.seq))\n",
    "\n",
    "\n",
    "# cov2_sequences=[]\n",
    "# for sequence in SeqIO.parse('cov2.fa', \"fasta\"):\n",
    "#     cov2_sequences.append(sequence)\n",
    "\n",
    "# infl_sequences=[]\n",
    "# for sequence in SeqIO.parse('influenza.fa', \"fasta\"):\n",
    "#     infl_sequences.append(sequence)   \n",
    "\n",
    "# sars_sequences=[]\n",
    "# for sequence in SeqIO.parse('sars.fa', \"fasta\"):\n",
    "#     sars_sequences.append(sequence)   "
   ]
  },
  {
   "cell_type": "code",
   "execution_count": 49,
   "metadata": {},
   "outputs": [
    {
     "data": {
      "text/plain": [
       "LabelEncoder()"
      ]
     },
     "execution_count": 49,
     "metadata": {},
     "output_type": "execute_result"
    }
   ],
   "source": [
    "import numpy as np\n",
    "import re\n",
    "\n",
    "def string_to_array(seq_string):\n",
    "   # print(seq_string)\n",
    "   seq_string = seq_string.lower()\n",
    "   seq_string = re.sub('[^acgt]', 'n', seq_string)\n",
    "   seq_string = np.array(list(seq_string))\n",
    "   return seq_string\n",
    "# create a label encoder with 'acgtn' alphabet\n",
    "from sklearn.preprocessing import LabelEncoder\n",
    "label_encoder = LabelEncoder()\n",
    "label_encoder.fit(np.array(['a','c','g','t','n']))"
   ]
  },
  {
   "cell_type": "code",
   "execution_count": 50,
   "metadata": {},
   "outputs": [],
   "source": [
    "from sklearn.preprocessing import OneHotEncoder\n",
    "def one_hot_encoder(seq_string):\n",
    "    int_encoded = label_encoder.transform(seq_string)\n",
    "    onehot_encoder = OneHotEncoder(sparse=False, dtype=int)\n",
    "    int_encoded = int_encoded.reshape(len(int_encoded), 1)\n",
    "    onehot_encoded = onehot_encoder.fit_transform(int_encoded)\n",
    "    onehot_encoded = np.delete(onehot_encoded, -1, 1)\n",
    "    return onehot_encoded\n"
   ]
  },
  {
   "cell_type": "code",
   "execution_count": 52,
   "metadata": {},
   "outputs": [
    {
     "name": "stdout",
     "output_type": "stream",
     "text": [
      "1416\n",
      "[[0 1 0 0]\n",
      " [0 1 0 0]\n",
      " [0 0 0 0]\n",
      " ...\n",
      " [0 0 0 0]\n",
      " [1 0 0 0]\n",
      " [0 0 1 0]]\n"
     ]
    }
   ],
   "source": [
    "x=sequences[0]\n",
    "print(len(sequences[0]))\n",
    "# x='GAATTCTCGAA'\n",
    "print(one_hot_encoder(string_to_array(x)))\n"
   ]
  }
 ],
 "metadata": {
  "interpreter": {
   "hash": "67b5f3d39dca4e2aeca6ba22c9ed5fc067fb4442418da24bbf1d0c78e3eba885"
  },
  "kernelspec": {
   "display_name": "Python 3 (ipykernel)",
   "language": "python",
   "name": "python3"
  },
  "language_info": {
   "codemirror_mode": {
    "name": "ipython",
    "version": 3
   },
   "file_extension": ".py",
   "mimetype": "text/x-python",
   "name": "python",
   "nbconvert_exporter": "python",
   "pygments_lexer": "ipython3",
   "version": "3.8.9"
  }
 },
 "nbformat": 4,
 "nbformat_minor": 2
}
